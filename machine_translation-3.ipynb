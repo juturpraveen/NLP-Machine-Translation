{
 "cells": [
  {
   "cell_type": "markdown",
   "metadata": {
    "collapsed": true
   },
   "source": [
    "# Artificial Intelligence Nanodegree\n",
    "## Machine Translation Project\n",
    "In this notebook, sections that end with **'(IMPLEMENTATION)'** in the header indicate that the following blocks of code will require additional functionality which you must provide. Please be sure to read the instructions carefully!\n",
    "\n",
    "## Introduction\n",
    "In this notebook, you will build a deep neural network that functions as part of an end-to-end machine translation pipeline. Your completed pipeline will accept English text as input and return the French translation.\n",
    "\n",
    "- **Preprocess** - You'll convert text to sequence of integers.\n",
    "- **Models** Create models which accepts a sequence of integers as input and returns a probability distribution over possible translations. After learning about the basic types of neural networks that are often used for machine translation, you will engage in your own investigations, to design your own model!\n",
    "- **Prediction** Run the model on English text."
   ]
  },
  {
   "cell_type": "code",
   "execution_count": 1,
   "metadata": {},
   "outputs": [],
   "source": [
    "%load_ext autoreload\n",
    "%aimport helper, tests\n",
    "%autoreload 1"
   ]
  },
  {
   "cell_type": "code",
   "execution_count": 2,
   "metadata": {},
   "outputs": [
    {
     "name": "stderr",
     "output_type": "stream",
     "text": [
      "Using TensorFlow backend.\n"
     ]
    }
   ],
   "source": [
    "import collections\n",
    "\n",
    "import helper\n",
    "import numpy as np\n",
    "import project_tests as tests\n",
    "\n",
    "from keras.preprocessing.text import Tokenizer\n",
    "from keras.preprocessing.sequence import pad_sequences\n",
    "from keras.models import Model\n",
    "from keras.layers import GRU, Input, Dense, TimeDistributed, Activation, RepeatVector, Bidirectional, Flatten, LSTM,RepeatVector\n",
    "from keras.layers.embeddings import Embedding\n",
    "from keras.optimizers import Adam\n",
    "from keras.losses import sparse_categorical_crossentropy"
   ]
  },
  {
   "cell_type": "markdown",
   "metadata": {},
   "source": [
    "### Verify access to the GPU\n",
    "The following test applies only if you expect to be using a GPU, e.g., while running in a Udacity Workspace or using an AWS instance with GPU support. Run the next cell, and verify that the device_type is \"GPU\".\n",
    "- If the device is not GPU & you are running from a Udacity Workspace, then save your workspace with the icon at the top, then click \"enable\" at the bottom of the workspace.\n",
    "- If the device is not GPU & you are running from an AWS instance, then refer to the cloud computing instructions in the classroom to verify your setup steps."
   ]
  },
  {
   "cell_type": "code",
   "execution_count": 3,
   "metadata": {},
   "outputs": [
    {
     "name": "stdout",
     "output_type": "stream",
     "text": [
      "[name: \"/cpu:0\"\n",
      "device_type: \"CPU\"\n",
      "memory_limit: 268435456\n",
      "locality {\n",
      "}\n",
      "incarnation: 17447907786137852231\n",
      ", name: \"/gpu:0\"\n",
      "device_type: \"GPU\"\n",
      "memory_limit: 357433344\n",
      "locality {\n",
      "  bus_id: 1\n",
      "}\n",
      "incarnation: 12936644726804344643\n",
      "physical_device_desc: \"device: 0, name: Tesla K80, pci bus id: 0000:00:04.0\"\n",
      "]\n"
     ]
    }
   ],
   "source": [
    "from tensorflow.python.client import device_lib\n",
    "print(device_lib.list_local_devices())"
   ]
  },
  {
   "cell_type": "markdown",
   "metadata": {},
   "source": [
    "## Dataset\n",
    "We begin by investigating the dataset that will be used to train and evaluate your pipeline.  The most common datasets used for machine translation are from [WMT](http://www.statmt.org/).  However, that will take a long time to train a neural network on.  We'll be using a dataset we created for this project that contains a small vocabulary.  You'll be able to train your model in a reasonable time with this dataset.\n",
    "### Load Data\n",
    "The data is located in `data/small_vocab_en` and `data/small_vocab_fr`. The `small_vocab_en` file contains English sentences with their French translations in the `small_vocab_fr` file. Load the English and French data from these files from running the cell below."
   ]
  },
  {
   "cell_type": "code",
   "execution_count": 4,
   "metadata": {},
   "outputs": [
    {
     "name": "stdout",
     "output_type": "stream",
     "text": [
      "Dataset Loaded\n"
     ]
    }
   ],
   "source": [
    "# Load English data\n",
    "english_sentences = helper.load_data('data/small_vocab_en')\n",
    "# Load French data\n",
    "french_sentences = helper.load_data('data/small_vocab_fr')\n",
    "\n",
    "print('Dataset Loaded')"
   ]
  },
  {
   "cell_type": "code",
   "execution_count": 5,
   "metadata": {},
   "outputs": [
    {
     "data": {
      "text/plain": [
       "'new jersey is sometimes quiet during autumn , and it is snowy in april .'"
      ]
     },
     "execution_count": 5,
     "metadata": {},
     "output_type": "execute_result"
    }
   ],
   "source": [
    "english_sentences[0]"
   ]
  },
  {
   "cell_type": "code",
   "execution_count": 6,
   "metadata": {},
   "outputs": [
    {
     "name": "stdout",
     "output_type": "stream",
     "text": [
      "137861\n",
      "137861\n"
     ]
    }
   ],
   "source": [
    "print(len(english_sentences))\n",
    "print(len(french_sentences))"
   ]
  },
  {
   "cell_type": "markdown",
   "metadata": {},
   "source": [
    "### Files\n",
    "Each line in `small_vocab_en` contains an English sentence with the respective translation in each line of `small_vocab_fr`.  View the first two lines from each file."
   ]
  },
  {
   "cell_type": "code",
   "execution_count": 7,
   "metadata": {
    "scrolled": true
   },
   "outputs": [
    {
     "name": "stdout",
     "output_type": "stream",
     "text": [
      "small_vocab_en Line 1:  new jersey is sometimes quiet during autumn , and it is snowy in april .\n",
      "small_vocab_fr Line 1:  new jersey est parfois calme pendant l' automne , et il est neigeux en avril .\n",
      "small_vocab_en Line 2:  the united states is usually chilly during july , and it is usually freezing in november .\n",
      "small_vocab_fr Line 2:  les états-unis est généralement froid en juillet , et il gèle habituellement en novembre .\n"
     ]
    }
   ],
   "source": [
    "for sample_i in range(2):\n",
    "    print('small_vocab_en Line {}:  {}'.format(sample_i + 1, english_sentences[sample_i]))\n",
    "    print('small_vocab_fr Line {}:  {}'.format(sample_i + 1, french_sentences[sample_i]))"
   ]
  },
  {
   "cell_type": "markdown",
   "metadata": {},
   "source": [
    "From looking at the sentences, you can see they have been preprocessed already.  The puncuations have been delimited using spaces. All the text have been converted to lowercase.  This should save you some time, but the text requires more preprocessing.\n",
    "### Vocabulary\n",
    "The complexity of the problem is determined by the complexity of the vocabulary.  A more complex vocabulary is a more complex problem.  Let's look at the complexity of the dataset we'll be working with."
   ]
  },
  {
   "cell_type": "code",
   "execution_count": 8,
   "metadata": {},
   "outputs": [
    {
     "name": "stdout",
     "output_type": "stream",
     "text": [
      "1823250 English words.\n",
      "227 unique English words.\n",
      "10 Most common words in the English dataset:\n",
      "\"is\" \",\" \".\" \"in\" \"it\" \"during\" \"the\" \"but\" \"and\" \"sometimes\"\n",
      "\n",
      "1961295 French words.\n",
      "355 unique French words.\n",
      "10 Most common words in the French dataset:\n",
      "\"est\" \".\" \",\" \"en\" \"il\" \"les\" \"mais\" \"et\" \"la\" \"parfois\"\n"
     ]
    }
   ],
   "source": [
    "english_words_counter = collections.Counter([word for sentence in english_sentences for word in sentence.split()])\n",
    "french_words_counter = collections.Counter([word for sentence in french_sentences for word in sentence.split()])\n",
    "\n",
    "print('{} English words.'.format(len([word for sentence in english_sentences for word in sentence.split()])))\n",
    "print('{} unique English words.'.format(len(english_words_counter)))\n",
    "print('10 Most common words in the English dataset:')\n",
    "print('\"' + '\" \"'.join(list(zip(*english_words_counter.most_common(10)))[0]) + '\"')\n",
    "print()\n",
    "print('{} French words.'.format(len([word for sentence in french_sentences for word in sentence.split()])))\n",
    "print('{} unique French words.'.format(len(french_words_counter)))\n",
    "print('10 Most common words in the French dataset:')\n",
    "print('\"' + '\" \"'.join(list(zip(*french_words_counter.most_common(10)))[0]) + '\"')"
   ]
  },
  {
   "cell_type": "markdown",
   "metadata": {},
   "source": [
    "For comparison, _Alice's Adventures in Wonderland_ contains 2,766 unique words of a total of 15,500 words.\n",
    "## Preprocess\n",
    "For this project, you won't use text data as input to your model. Instead, you'll convert the text into sequences of integers using the following preprocess methods:\n",
    "1. Tokenize the words into ids\n",
    "2. Add padding to make all the sequences the same length.\n",
    "\n",
    "Time to start preprocessing the data...\n",
    "### Tokenize (IMPLEMENTATION)\n",
    "For a neural network to predict on text data, it first has to be turned into data it can understand. Text data like \"dog\" is a sequence of ASCII character encodings.  Since a neural network is a series of multiplication and addition operations, the input data needs to be number(s).\n",
    "\n",
    "We can turn each character into a number or each word into a number.  These are called character and word ids, respectively.  Character ids are used for character level models that generate text predictions for each character.  A word level model uses word ids that generate text predictions for each word.  Word level models tend to learn better, since they are lower in complexity, so we'll use those.\n",
    "\n",
    "Turn each sentence into a sequence of words ids using Keras's [`Tokenizer`](https://keras.io/preprocessing/text/#tokenizer) function. Use this function to tokenize `english_sentences` and `french_sentences` in the cell below.\n",
    "\n",
    "Running the cell will run `tokenize` on sample data and show output for debugging."
   ]
  },
  {
   "cell_type": "code",
   "execution_count": 9,
   "metadata": {},
   "outputs": [
    {
     "name": "stdout",
     "output_type": "stream",
     "text": [
      "{'the': 1, 'quick': 2, 'a': 3, 'brown': 4, 'fox': 5, 'jumps': 6, 'over': 7, 'lazy': 8, 'dog': 9, 'by': 10, 'jove': 11, 'my': 12, 'study': 13, 'of': 14, 'lexicography': 15, 'won': 16, 'prize': 17, 'this': 18, 'is': 19, 'short': 20, 'sentence': 21}\n",
      "\n",
      "Sequence 1 in x\n",
      "  Input:  The quick brown fox jumps over the lazy dog .\n",
      "  Output: [1, 2, 4, 5, 6, 7, 1, 8, 9]\n",
      "Sequence 2 in x\n",
      "  Input:  By Jove , my quick study of lexicography won a prize .\n",
      "  Output: [10, 11, 12, 2, 13, 14, 15, 16, 3, 17]\n",
      "Sequence 3 in x\n",
      "  Input:  This is a short sentence .\n",
      "  Output: [18, 19, 3, 20, 21]\n"
     ]
    }
   ],
   "source": [
    "def tokenize(x):\n",
    "    \"\"\"\n",
    "    Tokenize x\n",
    "    :param x: List of sentences/strings to be tokenized\n",
    "    :return: Tuple of (tokenized x data, tokenizer used to tokenize x)\n",
    "    \"\"\"\n",
    "    # TODO: Implement\n",
    "    tokenizer = Tokenizer()\n",
    "    tokenizer.fit_on_texts(x)\n",
    "    return tokenizer.texts_to_sequences(x), tokenizer\n",
    "\n",
    "tests.test_tokenize(tokenize)\n",
    "\n",
    "# Tokenize Example output\n",
    "text_sentences = [\n",
    "    'The quick brown fox jumps over the lazy dog .',\n",
    "    'By Jove , my quick study of lexicography won a prize .',\n",
    "    'This is a short sentence .']\n",
    "text_tokenized, text_tokenizer = tokenize(text_sentences)\n",
    "print(text_tokenizer.word_index)\n",
    "print()\n",
    "for sample_i, (sent, token_sent) in enumerate(zip(text_sentences, text_tokenized)):\n",
    "    print('Sequence {} in x'.format(sample_i + 1))\n",
    "    print('  Input:  {}'.format(sent))\n",
    "    print('  Output: {}'.format(token_sent))"
   ]
  },
  {
   "cell_type": "code",
   "execution_count": 10,
   "metadata": {},
   "outputs": [
    {
     "data": {
      "text/plain": [
       "9"
      ]
     },
     "execution_count": 10,
     "metadata": {},
     "output_type": "execute_result"
    }
   ],
   "source": [
    "len(text_tokenized[0])"
   ]
  },
  {
   "cell_type": "markdown",
   "metadata": {},
   "source": [
    "### Padding (IMPLEMENTATION)\n",
    "When batching the sequence of word ids together, each sequence needs to be the same length.  Since sentences are dynamic in length, we can add padding to the end of the sequences to make them the same length.\n",
    "\n",
    "Make sure all the English sequences have the same length and all the French sequences have the same length by adding padding to the **end** of each sequence using Keras's [`pad_sequences`](https://keras.io/preprocessing/sequence/#pad_sequences) function.\n",
    "\n",
    "pad_sequences converts list of lists into numpy 2D array."
   ]
  },
  {
   "cell_type": "code",
   "execution_count": 11,
   "metadata": {},
   "outputs": [
    {
     "name": "stdout",
     "output_type": "stream",
     "text": [
      "Sequence 1 in x\n",
      "  Input:  [1 2 4 5 6 7 1 8 9]\n",
      "  Output: [1 2 4 5 6 7 1 8 9 0]\n",
      "Sequence 2 in x\n",
      "  Input:  [10 11 12  2 13 14 15 16  3 17]\n",
      "  Output: [10 11 12  2 13 14 15 16  3 17]\n",
      "Sequence 3 in x\n",
      "  Input:  [18 19  3 20 21]\n",
      "  Output: [18 19  3 20 21  0  0  0  0  0]\n"
     ]
    }
   ],
   "source": [
    "def pad(x, length=None):\n",
    "    \"\"\"\n",
    "    Pad x\n",
    "    :param x: List of sequences.\n",
    "    :param length: Length to pad the sequence to.  If None, use length of longest sequence in x.\n",
    "    :return: Padded numpy array of sequences\n",
    "    \"\"\"\n",
    "    if not length: \n",
    "        length = 0\n",
    "    for i in range(len(x)):\n",
    "        length = max(length, len(x[i]))\n",
    "    padded = pad_sequences(x,maxlen=length, padding=\"post\")\n",
    "    return padded\n",
    "\n",
    "tests.test_pad(pad)\n",
    "\n",
    "# Pad Tokenized output\n",
    "test_pad = pad(text_tokenized)\n",
    "for sample_i, (token_sent, pad_sent) in enumerate(zip(text_tokenized, test_pad)):\n",
    "    print('Sequence {} in x'.format(sample_i + 1))\n",
    "    print('  Input:  {}'.format(np.array(token_sent)))\n",
    "    print('  Output: {}'.format(pad_sent))"
   ]
  },
  {
   "cell_type": "markdown",
   "metadata": {},
   "source": [
    "### Preprocess Pipeline\n",
    "Your focus for this project is to build neural network architecture, so we won't ask you to create a preprocess pipeline.  Instead, we've provided you with the implementation of the `preprocess` function."
   ]
  },
  {
   "cell_type": "code",
   "execution_count": 12,
   "metadata": {
    "scrolled": true
   },
   "outputs": [
    {
     "name": "stdout",
     "output_type": "stream",
     "text": [
      "Data Preprocessed\n",
      "English sentenses shape: (137861, 15)\n",
      "French sentences shape: (137861, 21, 1)\n",
      "Max English sentence length: 15\n",
      "Max French sentence length: 21\n",
      "English vocabulary size: 199\n",
      "French vocabulary size: 344\n"
     ]
    }
   ],
   "source": [
    "def preprocess(x, y):\n",
    "    \"\"\"\n",
    "    Preprocess x and y\n",
    "    :param x: Feature List of sentences\n",
    "    :param y: Label List of sentences\n",
    "    :return: Tuple of (Preprocessed x, Preprocessed y, x tokenizer, y tokenizer)\n",
    "    \"\"\"\n",
    "    preprocess_x, x_tk = tokenize(x)\n",
    "    preprocess_y, y_tk = tokenize(y)\n",
    "\n",
    "    preprocess_x = pad(preprocess_x)\n",
    "    preprocess_y = pad(preprocess_y)\n",
    "\n",
    "    # Keras's sparse_categorical_crossentropy function requires the labels to be in 3 dimensions\n",
    "    preprocess_y = preprocess_y.reshape(*preprocess_y.shape, 1)\n",
    "\n",
    "    return preprocess_x, preprocess_y, x_tk, y_tk\n",
    "\n",
    "preproc_english_sentences, preproc_french_sentences, english_tokenizer, french_tokenizer =\\\n",
    "    preprocess(english_sentences, french_sentences)\n",
    "    \n",
    "max_english_sequence_length = preproc_english_sentences.shape[1]\n",
    "max_french_sequence_length = preproc_french_sentences.shape[1]\n",
    "english_vocab_size = len(english_tokenizer.word_index)\n",
    "french_vocab_size = len(french_tokenizer.word_index)\n",
    "\n",
    "print('Data Preprocessed')\n",
    "print('English sentenses shape:', preproc_english_sentences.shape)\n",
    "print('French sentences shape:', preproc_french_sentences.shape)\n",
    "print(\"Max English sentence length:\", max_english_sequence_length)\n",
    "print(\"Max French sentence length:\", max_french_sequence_length)\n",
    "print(\"English vocabulary size:\", english_vocab_size)\n",
    "print(\"French vocabulary size:\", french_vocab_size)"
   ]
  },
  {
   "cell_type": "markdown",
   "metadata": {},
   "source": [
    "## Models\n",
    "In this section, you will experiment with various neural network architectures.\n",
    "You will begin by training four relatively simple architectures.\n",
    "- Model 1 is a simple RNN\n",
    "- Model 2 is a RNN with Embedding\n",
    "- Model 3 is a Bidirectional RNN\n",
    "- Model 4 is an optional Encoder-Decoder RNN\n",
    "\n",
    "After experimenting with the four simple architectures, you will construct a deeper architecture that is designed to outperform all four models.\n",
    "### Ids Back to Text\n",
    "The neural network will be translating the input to words ids, which isn't the final form we want.  We want the French translation.  The function `logits_to_text` will bridge the gab between the logits from the neural network to the French translation.  You'll be using this function to better understand the output of the neural network."
   ]
  },
  {
   "cell_type": "code",
   "execution_count": 13,
   "metadata": {},
   "outputs": [
    {
     "name": "stdout",
     "output_type": "stream",
     "text": [
      "`logits_to_text` function loaded.\n"
     ]
    }
   ],
   "source": [
    "def logits_to_text(logits, tokenizer):\n",
    "    \"\"\"\n",
    "    Turn logits from a neural network into text using the tokenizer\n",
    "    :param logits: Logits from a neural network\n",
    "    :param tokenizer: Keras Tokenizer fit on the labels\n",
    "    :return: String that represents the text of the logits\n",
    "    \"\"\"\n",
    "    index_to_words = {id: word for word, id in tokenizer.word_index.items()}\n",
    "    index_to_words[0] = '<PAD>'\n",
    "\n",
    "    return ' '.join([index_to_words[prediction] for prediction in np.argmax(logits, 1)])\n",
    "\n",
    "print('`logits_to_text` function loaded.')"
   ]
  },
  {
   "cell_type": "markdown",
   "metadata": {},
   "source": [
    "### Model 1: RNN (IMPLEMENTATION)\n",
    "![RNN](images/rnn.png)\n",
    "A basic RNN model is a good baseline for sequence data.  In this model, you'll build a RNN that translates English to French."
   ]
  },
  {
   "cell_type": "code",
   "execution_count": 14,
   "metadata": {},
   "outputs": [
    {
     "name": "stdout",
     "output_type": "stream",
     "text": [
      "Input Shape: (137861, 21, 1)\n",
      "Output sequence length: 21\n",
      "English vocab size: 199\n",
      "French vocab size: 344\n",
      "Input Layer Shape: (?, 21, 1)\n",
      "GRULayer shape: (?, ?, 64)\n",
      "Output Layer shape: (?, 21, 344)\n"
     ]
    }
   ],
   "source": [
    "# from keras.layers import GRU, Input, Dense, TimeDistributed, Activation, RepeatVector, Bidirectional\n",
    "def simple_model(input_shape, output_sequence_length, english_vocab_size, french_vocab_size):\n",
    "    \"\"\"\n",
    "    Build and train a basic RNN on x and y\n",
    "    :param input_shape: Tuple of input shape\n",
    "    :param output_sequence_length: Length of output sequence\n",
    "    :param english_vocab_size: Number of unique English words in the dataset\n",
    "    :param french_vocab_size: Number of unique French words in the dataset\n",
    "    :return: Keras model built, but not trained\n",
    "    \"\"\"\n",
    "    learning_rate = 0.01\n",
    "    # TODO: Build the layers\n",
    "    inputLayer = Input(shape=input_shape[1:])\n",
    "    print('Input Layer Shape:',inputLayer.shape)\n",
    "    GRULayer = GRU(units=64,return_sequences=True)(inputLayer)\n",
    "    print('GRULayer shape:',GRULayer.shape)\n",
    "    outputLayer = TimeDistributed(Dense(units=french_vocab_size))(GRULayer)\n",
    "    print('Output Layer shape:',outputLayer.shape)\n",
    "    model = Model(inputLayer, Activation('softmax')(outputLayer))\n",
    "    model.compile(loss=sparse_categorical_crossentropy,\n",
    "                  optimizer=Adam(learning_rate),\n",
    "                  metrics=['accuracy'])\n",
    "    return model\n",
    "# tests.test_simple_model(simple_model)?\n",
    "# \n",
    "# Reshaping the input to work with a basic RNN\n",
    "tmp_x = pad(preproc_english_sentences, max_french_sequence_length)\n",
    "tmp_x = tmp_x.reshape((-1, preproc_french_sentences.shape[-2], 1))\n",
    "print('Input Shape:', tmp_x.shape)\n",
    "print('Output sequence length:', max_french_sequence_length)\n",
    "print('English vocab size:', english_vocab_size)\n",
    "print('French vocab size:', french_vocab_size)\n",
    "# Train the neural network\n",
    "simple_rnn_model = simple_model(\n",
    "    tmp_x.shape,\n",
    "    max_french_sequence_length,\n",
    "    english_vocab_size,\n",
    "    french_vocab_size)\n",
    "# simple_rnn_model.fit(tmp_x, preproc_french_sentences, batch_size=1024, epochs=20, validation_split=0.2)\n",
    "\n",
    "# Print prediction(s)\n",
    "# print(logits_to_text(simple_rnn_model.predict(tmp_x[:1])[0], french_tokenizer))"
   ]
  },
  {
   "cell_type": "code",
   "execution_count": 15,
   "metadata": {},
   "outputs": [
    {
     "data": {
      "text/plain": [
       "(137861, 21, 1)"
      ]
     },
     "execution_count": 15,
     "metadata": {},
     "output_type": "execute_result"
    }
   ],
   "source": [
    "tmp_x.shape"
   ]
  },
  {
   "cell_type": "markdown",
   "metadata": {},
   "source": [
    "Source sentence: 'new jersey is sometimes quiet during autumn , and it is snowy in april .'\n",
    "    - Translation with GRU (10 Epochs): new jersey est parfois calme en mois de il est est en en \n",
    "    - Translation with GRU (10 Epochs): new jersey is sometimes calm in the month of it is in in"
   ]
  },
  {
   "cell_type": "code",
   "execution_count": 16,
   "metadata": {
    "scrolled": true
   },
   "outputs": [
    {
     "name": "stdout",
     "output_type": "stream",
     "text": [
      "new\n",
      "jersey\n",
      "is\n",
      "sometimes\n",
      "quiet\n",
      "during\n",
      "autumn\n",
      "and\n",
      "it\n",
      "is\n",
      "snowy\n",
      "in\n",
      "april\n"
     ]
    }
   ],
   "source": [
    "# ' '.join([index_to_words[prediction] for prediction in np.argmax(logits, 1)])\n",
    "engDict = {id: word for word, id in english_tokenizer.word_index.items()}\n",
    "for id in tmp_x[:1][0]:\n",
    "    index = id[0]\n",
    "    if index != 0:\n",
    "        print(engDict[id[0]])"
   ]
  },
  {
   "cell_type": "markdown",
   "metadata": {},
   "source": [
    "### Model 2: Embedding (IMPLEMENTATION)\n",
    "![RNN](images/embedding.png)\n",
    "You've turned the words into ids, but there's a better representation of a word.  This is called word embeddings.  An embedding is a vector representation of the word that is close to similar words in n-dimensional space, where the n represents the size of the embedding vectors.\n",
    "\n",
    "In this model, you'll create a RNN model using embedding."
   ]
  },
  {
   "cell_type": "markdown",
   "metadata": {},
   "source": [
    "#### Question: What the input&output are shapes for model.fit method\n",
    "- Output and input should be consistent\n",
    "- Since the output is shaped 3 dimensions for calculating sparse categorical crossentropy, input should be similarly sized too.\n",
    "- Hence reshaping the input \n",
    "\n",
    "#### Data:\n",
    "- Input: 137861 english sentences of length 15 words each\n",
    "- Output: 137861 french sentences of length 21 words each\n",
    "\n",
    "#### What is embedding layer input:\n",
    "- Since embedding layer captures sematic information, the input should be whole sentences. That way relationship between words is also captured.\n",
    "- Each word should be integer encoded (Keras embedding) \n",
    "- Also the output dimensions, how many dimensions each vector should have after embedding.\n",
    "- input_dim = input vocab length\n",
    "- output_dim = embedding vector length\n",
    "- input_len = length of each sentence?\n",
    "\n",
    "#### What should be embedding layer input shape:\n",
    " - [total_num_of_sentences, length_of_each_sentence]\n",
    "\n",
    "#### What is the embedding layer output\n",
    " - 2D vector containing [word_id, embedding_vector]\n",
    " - Output contains embedding to each word in the input vocab"
   ]
  },
  {
   "cell_type": "code",
   "execution_count": 17,
   "metadata": {},
   "outputs": [
    {
     "name": "stdout",
     "output_type": "stream",
     "text": [
      "(137861, 15)\n",
      "(137861, 21, 1)\n"
     ]
    }
   ],
   "source": [
    "print(preproc_english_sentences.shape)\n",
    "print(preproc_french_sentences.shape)"
   ]
  },
  {
   "cell_type": "code",
   "execution_count": 18,
   "metadata": {},
   "outputs": [
    {
     "name": "stdout",
     "output_type": "stream",
     "text": [
      "(?, 21)\n",
      "(?, 21, 64)\n",
      "(?, ?, 64)\n"
     ]
    }
   ],
   "source": [
    "inputLayer = Input(shape=[21,])\n",
    "print(inputLayer.shape)\n",
    "embedLayer = Embedding(input_dim=english_vocab_size, output_dim=64, input_length=21)(inputLayer)\n",
    "print(embedLayer.shape)\n",
    "GRULay = GRU(units=64, return_sequences=True)(embedLayer)\n",
    "print(GRULay.shape)"
   ]
  },
  {
   "cell_type": "markdown",
   "metadata": {},
   "source": [
    "- Why to convert input and output sequences to same length?"
   ]
  },
  {
   "cell_type": "code",
   "execution_count": 19,
   "metadata": {
    "scrolled": true
   },
   "outputs": [
    {
     "name": "stdout",
     "output_type": "stream",
     "text": [
      "Embedding layer shape: (?, 21, 64)\n",
      "_________________________________________________________________\n",
      "Layer (type)                 Output Shape              Param #   \n",
      "=================================================================\n",
      "input_3 (InputLayer)         (None, 21)                0         \n",
      "_________________________________________________________________\n",
      "embedding_2 (Embedding)      (None, 21, 64)            12736     \n",
      "_________________________________________________________________\n",
      "gru_3 (GRU)                  (None, 21, 128)           74112     \n",
      "_________________________________________________________________\n",
      "time_distributed_2 (TimeDist (None, 21, 344)           44376     \n",
      "_________________________________________________________________\n",
      "activation_2 (Activation)    (None, 21, 344)           0         \n",
      "=================================================================\n",
      "Total params: 131,224\n",
      "Trainable params: 131,224\n",
      "Non-trainable params: 0\n",
      "_________________________________________________________________\n",
      "Input shape prior to reshaping: (137861, 21)\n",
      "Embedding layer shape: (?, 21, 64)\n",
      "_________________________________________________________________\n",
      "Layer (type)                 Output Shape              Param #   \n",
      "=================================================================\n",
      "input_4 (InputLayer)         (None, 21)                0         \n",
      "_________________________________________________________________\n",
      "embedding_3 (Embedding)      (None, 21, 64)            12736     \n",
      "_________________________________________________________________\n",
      "gru_4 (GRU)                  (None, 21, 128)           74112     \n",
      "_________________________________________________________________\n",
      "time_distributed_3 (TimeDist (None, 21, 344)           44376     \n",
      "_________________________________________________________________\n",
      "activation_3 (Activation)    (None, 21, 344)           0         \n",
      "=================================================================\n",
      "Total params: 131,224\n",
      "Trainable params: 131,224\n",
      "Non-trainable params: 0\n",
      "_________________________________________________________________\n",
      "Train on 110288 samples, validate on 27573 samples\n",
      "Epoch 1/20\n",
      "110288/110288 [==============================] - 10s 89us/step - loss: 3.5085 - acc: 0.4036 - val_loss: nan - val_acc: 0.4095\n",
      "Epoch 2/20\n",
      "110288/110288 [==============================] - 9s 83us/step - loss: 2.4629 - acc: 0.4755 - val_loss: nan - val_acc: 0.5454\n",
      "Epoch 3/20\n",
      "110288/110288 [==============================] - 9s 83us/step - loss: 1.6947 - acc: 0.6057 - val_loss: nan - val_acc: 0.6524\n",
      "Epoch 4/20\n",
      "110288/110288 [==============================] - 9s 84us/step - loss: 1.3010 - acc: 0.6840 - val_loss: nan - val_acc: 0.7240\n",
      "Epoch 5/20\n",
      "110288/110288 [==============================] - 9s 83us/step - loss: 1.0290 - acc: 0.7462 - val_loss: nan - val_acc: 0.7705\n",
      "Epoch 6/20\n",
      "110288/110288 [==============================] - 9s 83us/step - loss: 0.8369 - acc: 0.7843 - val_loss: nan - val_acc: 0.7952\n",
      "Epoch 7/20\n",
      "110288/110288 [==============================] - 9s 83us/step - loss: 0.6990 - acc: 0.8106 - val_loss: nan - val_acc: 0.8232\n",
      "Epoch 8/20\n",
      "110288/110288 [==============================] - 9s 83us/step - loss: 0.6025 - acc: 0.8315 - val_loss: nan - val_acc: 0.8425\n",
      "Epoch 9/20\n",
      "110288/110288 [==============================] - 9s 83us/step - loss: 0.5318 - acc: 0.8480 - val_loss: nan - val_acc: 0.8555\n",
      "Epoch 10/20\n",
      "110288/110288 [==============================] - 9s 83us/step - loss: 0.4791 - acc: 0.8612 - val_loss: nan - val_acc: 0.8686\n",
      "Epoch 11/20\n",
      "110288/110288 [==============================] - 9s 83us/step - loss: 0.4370 - acc: 0.8725 - val_loss: nan - val_acc: 0.8770\n",
      "Epoch 12/20\n",
      "110288/110288 [==============================] - 9s 83us/step - loss: 0.4054 - acc: 0.8804 - val_loss: nan - val_acc: 0.8843\n",
      "Epoch 13/20\n",
      "110288/110288 [==============================] - 9s 83us/step - loss: 0.3773 - acc: 0.8874 - val_loss: nan - val_acc: 0.8910\n",
      "Epoch 14/20\n",
      "110288/110288 [==============================] - 9s 83us/step - loss: 0.3536 - acc: 0.8937 - val_loss: nan - val_acc: 0.8956\n",
      "Epoch 15/20\n",
      "110288/110288 [==============================] - 9s 83us/step - loss: 0.3366 - acc: 0.8981 - val_loss: nan - val_acc: 0.9003\n",
      "Epoch 16/20\n",
      "110288/110288 [==============================] - 9s 83us/step - loss: 0.3200 - acc: 0.9025 - val_loss: nan - val_acc: 0.8990\n",
      "Epoch 17/20\n",
      "110288/110288 [==============================] - 9s 84us/step - loss: 0.3089 - acc: 0.9052 - val_loss: nan - val_acc: 0.9070\n",
      "Epoch 18/20\n",
      "110288/110288 [==============================] - 9s 84us/step - loss: 0.2946 - acc: 0.9093 - val_loss: nan - val_acc: 0.9089\n",
      "Epoch 19/20\n",
      "110288/110288 [==============================] - 9s 83us/step - loss: 0.2861 - acc: 0.9112 - val_loss: nan - val_acc: 0.9106\n",
      "Epoch 20/20\n",
      "110288/110288 [==============================] - 9s 83us/step - loss: 0.2773 - acc: 0.9136 - val_loss: nan - val_acc: 0.9105\n",
      "new jersey est parfois calme en l' et et il est neigeux en <PAD> <PAD> <PAD> <PAD> <PAD> <PAD> <PAD> <PAD>\n"
     ]
    }
   ],
   "source": [
    "# from keras.models import Sequential\n",
    "def embed_model(input_shape, output_sequence_length, english_vocab_size, french_vocab_size):\n",
    "    \"\"\"\n",
    "    Build and train a RNN model using word embedding on x and y\n",
    "    :param input_shape: Tuple of input shape\n",
    "    :param output_sequence_length: Length of output sequence\n",
    "    :param english_vocab_size: Number of unique English words in the dataset\n",
    "    :param french_vocab_size: Number of unique French words in the dataset\n",
    "    :return: Keras model built, but not trained\n",
    "    \"\"\"\n",
    "    # TODO: Implement\n",
    "    inputLayer = Input(shape=input_shape[1:])\n",
    "    embeddingLayer = Embedding(input_dim=english_vocab_size,output_dim=64, input_shape=inputLayer.shape)(inputLayer)\n",
    "    print('Embedding layer shape:',embeddingLayer.shape)\n",
    "    GRULayer = GRU(units=128, return_sequences=True)(embeddingLayer)\n",
    "    outputLayer = TimeDistributed(Dense(units=french_vocab_size))(GRULayer)\n",
    "    model = Model(inputLayer, Activation('softmax')(outputLayer))\n",
    "    model.compile(optimizer='adam', loss='sparse_categorical_crossentropy', metrics=['accuracy'])\n",
    "    model.summary()\n",
    "    return model\n",
    "\n",
    "tests.test_embed_model(embed_model)\n",
    "\n",
    "\n",
    "# TODO: Reshape the input\n",
    "input_x = pad(preproc_english_sentences, max_french_sequence_length)\n",
    "print('Input shape prior to reshaping:', input_x.shape)\n",
    "input_x = input_x.reshape((-1, preproc_french_sentences.shape[-2]))\n",
    "\n",
    "# TODO: Train the neural network\n",
    "embeddedModel = embed_model(input_x.shape, max_french_sequence_length, english_vocab_size, french_vocab_size)\n",
    "# from tensorflow import keras\n",
    "# keras.utils.plot_model(embeddedModel, \"my_first_model.png\")\n",
    "embeddedModel.fit(input_x, preproc_french_sentences, batch_size=1024, epochs=20, validation_split=0.2)\n",
    "\n",
    "# TODO: Print prediction(s)\n",
    "print(logits_to_text(embeddedModel.predict(input_x[:1])[0], french_tokenizer))"
   ]
  },
  {
   "cell_type": "code",
   "execution_count": 20,
   "metadata": {
    "scrolled": true
   },
   "outputs": [
    {
     "name": "stdout",
     "output_type": "stream",
     "text": [
      "les états unis est parfois doux en juin et il est froid en septembre <PAD> <PAD> <PAD> <PAD> <PAD> <PAD> <PAD>\n"
     ]
    }
   ],
   "source": [
    "# TODO: Print prediction(s)\n",
    "print(logits_to_text(embeddedModel.predict(input_x[3:4])[0], french_tokenizer))"
   ]
  },
  {
   "cell_type": "markdown",
   "metadata": {},
   "source": [
    "### Model 3: Bidirectional RNNs (IMPLEMENTATION)\n",
    "![RNN](images/bidirectional.png)\n",
    "One restriction of a RNN is that it can't see the future input, only the past.  This is where bidirectional recurrent neural networks come in.  They are able to see the future data."
   ]
  },
  {
   "cell_type": "code",
   "execution_count": 21,
   "metadata": {},
   "outputs": [
    {
     "name": "stdout",
     "output_type": "stream",
     "text": [
      "Train on 110288 samples, validate on 27573 samples\n",
      "Epoch 1/20\n",
      "110288/110288 [==============================] - 13s 114us/step - loss: 1.9134 - acc: 0.5628 - val_loss: nan - val_acc: 0.6306\n",
      "Epoch 2/20\n",
      "110288/110288 [==============================] - 12s 108us/step - loss: 1.2398 - acc: 0.6508 - val_loss: nan - val_acc: 0.6652\n",
      "Epoch 3/20\n",
      "110288/110288 [==============================] - 12s 109us/step - loss: 1.1150 - acc: 0.6730 - val_loss: nan - val_acc: 0.6745\n",
      "Epoch 4/20\n",
      "110288/110288 [==============================] - 12s 110us/step - loss: 1.0439 - acc: 0.6862 - val_loss: nan - val_acc: 0.6897\n",
      "Epoch 5/20\n",
      "110288/110288 [==============================] - 12s 109us/step - loss: 0.9922 - acc: 0.6973 - val_loss: nan - val_acc: 0.7080\n",
      "Epoch 6/20\n",
      "110288/110288 [==============================] - 12s 109us/step - loss: 0.9514 - acc: 0.7061 - val_loss: nan - val_acc: 0.7128\n",
      "Epoch 7/20\n",
      "110288/110288 [==============================] - 12s 109us/step - loss: 0.9212 - acc: 0.7141 - val_loss: nan - val_acc: 0.7226\n",
      "Epoch 8/20\n",
      "110288/110288 [==============================] - 12s 109us/step - loss: 0.8918 - acc: 0.7228 - val_loss: nan - val_acc: 0.7262\n",
      "Epoch 9/20\n",
      "110288/110288 [==============================] - 12s 108us/step - loss: 0.8539 - acc: 0.7350 - val_loss: nan - val_acc: 0.7363\n",
      "Epoch 10/20\n",
      "110288/110288 [==============================] - 12s 108us/step - loss: 0.8420 - acc: 0.7351 - val_loss: nan - val_acc: 0.7384\n",
      "Epoch 11/20\n",
      "110288/110288 [==============================] - 12s 108us/step - loss: 0.8134 - acc: 0.7430 - val_loss: nan - val_acc: 0.7466\n",
      "Epoch 12/20\n",
      "110288/110288 [==============================] - 12s 110us/step - loss: 0.7987 - acc: 0.7460 - val_loss: nan - val_acc: 0.7480\n",
      "Epoch 13/20\n",
      "110288/110288 [==============================] - 12s 109us/step - loss: 0.7962 - acc: 0.7446 - val_loss: nan - val_acc: 0.7278\n",
      "Epoch 14/20\n",
      "110288/110288 [==============================] - 12s 109us/step - loss: 0.7923 - acc: 0.7440 - val_loss: nan - val_acc: 0.7531\n",
      "Epoch 15/20\n",
      "110288/110288 [==============================] - 12s 109us/step - loss: 0.7720 - acc: 0.7518 - val_loss: nan - val_acc: 0.7558\n",
      "Epoch 16/20\n",
      "110288/110288 [==============================] - 12s 108us/step - loss: 0.7575 - acc: 0.7559 - val_loss: nan - val_acc: 0.7589\n",
      "Epoch 17/20\n",
      "110288/110288 [==============================] - 12s 109us/step - loss: 0.7388 - acc: 0.7621 - val_loss: nan - val_acc: 0.7670\n",
      "Epoch 18/20\n",
      "110288/110288 [==============================] - 12s 108us/step - loss: 0.7289 - acc: 0.7650 - val_loss: nan - val_acc: 0.7691\n",
      "Epoch 19/20\n",
      "110288/110288 [==============================] - 12s 109us/step - loss: 0.7194 - acc: 0.7678 - val_loss: nan - val_acc: 0.7627\n",
      "Epoch 20/20\n",
      "110288/110288 [==============================] - 12s 109us/step - loss: 0.7070 - acc: 0.7720 - val_loss: nan - val_acc: 0.7803\n",
      "les états unis est parfois doux en juin et il est merveilleux en septembre <PAD> <PAD> <PAD> <PAD> <PAD> <PAD> <PAD>\n"
     ]
    }
   ],
   "source": [
    "def bd_model(input_shape, output_sequence_length, english_vocab_size, french_vocab_size):\n",
    "    \"\"\"\n",
    "    Build and train a bidirectional RNN model on x and y\n",
    "    :param input_shape: Tuple of input shape\n",
    "    :param output_sequence_length: Length of output sequence\n",
    "    :param english_vocab_size: Number of unique English words in the dataset\n",
    "    :param french_vocab_size: Number of unique French words in the dataset\n",
    "    :return: Keras model built, but not trained\n",
    "    \"\"\"\n",
    "    # TODO: Implement\n",
    "    inputLayer = Input(shape=input_shape[1:])\n",
    "    bdLayer = Bidirectional(LSTM(64, return_sequences=True))(inputLayer)\n",
    "    outputLayer = TimeDistributed(Dense(french_vocab_size,activation='softmax'))(bdLayer)\n",
    "    bdmodel = Model(inputs=inputLayer, outputs=outputLayer)\n",
    "    bdmodel.compile(loss=sparse_categorical_crossentropy, optimizer=Adam(0.01), metrics=['accuracy'])\n",
    "    return bdmodel\n",
    "tests.test_bd_model(bd_model)\n",
    "\n",
    "#Preprocess the input into [samples, timesteps, features_per_each_timestep]\n",
    "bdinput = pad(preproc_english_sentences, max_french_sequence_length)\n",
    "# bdinput = preproc_english_sentences\n",
    "bdinput = bdinput.reshape(-1, bdinput.shape[1],1)\n",
    "\n",
    "#Build the model\n",
    "bdmodel = bd_model(bdinput.shape, max_french_sequence_length, english_vocab_size,french_vocab_size)\n",
    "\n",
    "#Train the model\n",
    "bdmodel.fit(bdinput, preproc_french_sentences, epochs=20, batch_size=1024, validation_split=0.2)\n",
    "\n",
    "#Make a prediction after training\n",
    "print(logits_to_text(bdmodel.predict(tmp_x[3:4])[0], french_tokenizer))"
   ]
  },
  {
   "cell_type": "markdown",
   "metadata": {},
   "source": [
    "### Model 4: Encoder-Decoder (OPTIONAL)\n",
    "Time to look at encoder-decoder models.  This model is made up of an encoder and decoder. The encoder creates a matrix representation of the sentence.  The decoder takes this matrix as input and predicts the translation as output.\n",
    "\n",
    "Create an encoder-decoder model in the cell below."
   ]
  },
  {
   "cell_type": "code",
   "execution_count": 22,
   "metadata": {},
   "outputs": [
    {
     "name": "stdout",
     "output_type": "stream",
     "text": [
      "Input shape: (137861, 21, 1)\n",
      "Output shape: (137861, 21, 1)\n",
      "Encoder input shape: (?, 21, 1)\n",
      "Encoder GRU shape: (?, 256)\n",
      "Decoder input shape: (?, 21, 256)\n",
      "Decoder GRU shape: (?, ?, 256)\n",
      "_________________________________________________________________\n",
      "Layer (type)                 Output Shape              Param #   \n",
      "=================================================================\n",
      "input_7 (InputLayer)         (None, 21, 1)             0         \n",
      "_________________________________________________________________\n",
      "gru_5 (GRU)                  (None, 256)               198144    \n",
      "_________________________________________________________________\n",
      "repeat_vector_1 (RepeatVecto (None, 21, 256)           0         \n",
      "_________________________________________________________________\n",
      "gru_6 (GRU)                  (None, 21, 256)           393984    \n",
      "_________________________________________________________________\n",
      "time_distributed_6 (TimeDist (None, 21, 344)           88408     \n",
      "=================================================================\n",
      "Total params: 680,536\n",
      "Trainable params: 680,536\n",
      "Non-trainable params: 0\n",
      "_________________________________________________________________\n",
      "Train on 110288 samples, validate on 27573 samples\n",
      "Epoch 1/20\n",
      "110288/110288 [==============================] - 20s 180us/step - loss: 2.9904 - acc: 0.4173 - val_loss: nan - val_acc: 0.4489\n",
      "Epoch 2/20\n",
      "110288/110288 [==============================] - 19s 175us/step - loss: 2.5414 - acc: 0.4456 - val_loss: nan - val_acc: 0.4341\n",
      "Epoch 3/20\n",
      "110288/110288 [==============================] - 19s 175us/step - loss: 2.3807 - acc: 0.4674 - val_loss: nan - val_acc: 0.4826\n",
      "Epoch 4/20\n",
      "110288/110288 [==============================] - 19s 174us/step - loss: 2.4172 - acc: 0.4626 - val_loss: nan - val_acc: 0.4518\n",
      "Epoch 5/20\n",
      "110288/110288 [==============================] - 19s 174us/step - loss: 2.4314 - acc: 0.4635 - val_loss: nan - val_acc: 0.4659\n",
      "Epoch 6/20\n",
      "110288/110288 [==============================] - 19s 173us/step - loss: 2.5421 - acc: 0.4453 - val_loss: nan - val_acc: 0.4224\n",
      "Epoch 7/20\n",
      "110288/110288 [==============================] - 19s 175us/step - loss: 2.5993 - acc: 0.4295 - val_loss: nan - val_acc: 0.4287\n",
      "Epoch 8/20\n",
      "110288/110288 [==============================] - 19s 174us/step - loss: 2.5108 - acc: 0.4428 - val_loss: nan - val_acc: 0.4487\n",
      "Epoch 9/20\n",
      "110288/110288 [==============================] - 19s 175us/step - loss: 2.4505 - acc: 0.4580 - val_loss: nan - val_acc: 0.4679\n",
      "Epoch 10/20\n",
      "110288/110288 [==============================] - 19s 175us/step - loss: 2.3615 - acc: 0.4754 - val_loss: nan - val_acc: 0.4882\n",
      "Epoch 11/20\n",
      "110288/110288 [==============================] - 19s 175us/step - loss: 2.4183 - acc: 0.4653 - val_loss: nan - val_acc: 0.4737\n",
      "Epoch 12/20\n",
      "110288/110288 [==============================] - 19s 174us/step - loss: 2.3924 - acc: 0.4705 - val_loss: nan - val_acc: 0.4738\n",
      "Epoch 13/20\n",
      "110288/110288 [==============================] - 19s 174us/step - loss: 2.3667 - acc: 0.4726 - val_loss: nan - val_acc: 0.4755\n",
      "Epoch 14/20\n",
      "110288/110288 [==============================] - 19s 175us/step - loss: 2.3542 - acc: 0.4739 - val_loss: nan - val_acc: 0.4751\n",
      "Epoch 15/20\n",
      "110288/110288 [==============================] - 19s 175us/step - loss: 2.3467 - acc: 0.4739 - val_loss: nan - val_acc: 0.4779\n",
      "Epoch 16/20\n",
      "110288/110288 [==============================] - 19s 175us/step - loss: 2.4744 - acc: 0.4609 - val_loss: nan - val_acc: 0.4640\n",
      "Epoch 17/20\n",
      "110288/110288 [==============================] - 19s 174us/step - loss: 2.4863 - acc: 0.4530 - val_loss: nan - val_acc: 0.4417\n",
      "Epoch 18/20\n",
      "110288/110288 [==============================] - 19s 174us/step - loss: 2.4936 - acc: 0.4465 - val_loss: nan - val_acc: 0.4475\n",
      "Epoch 19/20\n",
      "110288/110288 [==============================] - 19s 175us/step - loss: 2.4631 - acc: 0.4533 - val_loss: nan - val_acc: 0.4561\n",
      "Epoch 20/20\n",
      "110288/110288 [==============================] - 19s 174us/step - loss: 2.4554 - acc: 0.4562 - val_loss: nan - val_acc: 0.4569\n",
      "les <PAD> <PAD> <PAD> <PAD> <PAD> <PAD> <PAD> <PAD> <PAD> <PAD> <PAD> <PAD> <PAD> <PAD> <PAD> <PAD> <PAD> <PAD> <PAD> <PAD>\n"
     ]
    }
   ],
   "source": [
    "def encdec_model(input_shape, output_sequence_length, english_vocab_size, french_vocab_size):\n",
    "    \"\"\"\n",
    "    Build and train an encoder-decoder model on x and y\n",
    "    :param input_shape: Tuple of input shape\n",
    "    :param output_sequence_length: Length of output sequence\n",
    "    :param english_vocab_size: Number of unique English words in the dataset\n",
    "    :param french_vocab_size: Number of unique French words in the dataset\n",
    "    :return: Keras model built, but not trained\n",
    "    \"\"\"    \n",
    "    #Encoder\n",
    "    encoder_input = Input(shape=input_shape[1:])\n",
    "    print('Encoder input shape:', encoder_input.shape)\n",
    "    encoder_gru = GRU(256)(encoder_input)\n",
    "    print('Encoder GRU shape:', encoder_gru.shape)\n",
    "    decoder_input = RepeatVector(output_sequence_length)(encoder_gru)\n",
    "    print('Decoder input shape:', decoder_input.shape)\n",
    "    decoder_gru = GRU(256,return_sequences=True)(decoder_input)\n",
    "    print('Decoder GRU shape:', decoder_gru.shape)\n",
    "    decoder_output = TimeDistributed(Dense(french_vocab_size, activation='softmax'))(decoder_gru)\n",
    "    edmodel = Model(inputs=encoder_input, outputs=decoder_output)\n",
    "\n",
    "    # Build the encoder-decoder RNN model\n",
    "#     input_layer= Input(shape=input_shape[1:])\n",
    "#     encoder = GRU(256, recurrent_dropout=0.2)(input_layer)\n",
    "#     repeat_vector = RepeatVector(output_sequence_length)(encoder)\n",
    "#     decoder = GRU(256, return_sequences=True, recurrent_dropout=0.2)(repeat_vector)\n",
    "#     dense_layer = Dense(french_vocab_size, activation='relu')(decoder)\n",
    "#     output_layer = TimeDistributed(Dense(french_vocab_size, activation='softmax'))(decoder)\n",
    "#     edmodel = Model(inputs=input_layer, outputs=output_layer)\n",
    "    \n",
    "    # Compile the model\n",
    "    learning_rate = 0.01\n",
    "    edmodel.compile(loss=sparse_categorical_crossentropy,\n",
    "                  optimizer=Adam(lr=learning_rate),\n",
    "                  metrics=['accuracy'])\n",
    "    edmodel.summary()\n",
    "    return edmodel\n",
    "# tests.test_encdec_model(encdec_model)\n",
    "\n",
    "\n",
    "# OPTIONAL: Train and Print prediction(s)\n",
    "edinput = pad(preproc_english_sentences, max_french_sequence_length)\n",
    "edinput = edinput.reshape((-1, edinput.shape[-1],1))\n",
    "print('Input shape:', edinput.shape)\n",
    "print('Output shape:', preproc_french_sentences.shape)\n",
    "edmodel = encdec_model(edinput.shape, max_french_sequence_length, english_vocab_size, french_vocab_size)\n",
    "edmodel.fit(edinput,preproc_french_sentences, batch_size=1024, epochs=20, validation_split=0.2)\n",
    "#Make a prediction after training\n",
    "print(logits_to_text(edmodel.predict(bdinput[3:4])[0], french_tokenizer))"
   ]
  },
  {
   "cell_type": "markdown",
   "metadata": {},
   "source": [
    "### Model 5: Custom (IMPLEMENTATION)\n",
    "Use everything you learned from the previous models to create a model that incorporates embedding and a bidirectional rnn into one model."
   ]
  },
  {
   "cell_type": "code",
   "execution_count": 23,
   "metadata": {},
   "outputs": [
    {
     "name": "stdout",
     "output_type": "stream",
     "text": [
      "Final Model Loaded\n"
     ]
    }
   ],
   "source": [
    "def model_final(input_shape, output_sequence_length, english_vocab_size, french_vocab_size):\n",
    "    \"\"\"\n",
    "    Build and train a model that incorporates embedding, encoder-decoder, and bidirectional RNN on x and y\n",
    "    :param input_shape: Tuple of input shape\n",
    "    :param output_sequence_length: Length of output sequence\n",
    "    :param english_vocab_size: Number of unique English words in the dataset\n",
    "    :param french_vocab_size: Number of unique French words in the dataset\n",
    "    :return: Keras model built, but not trained\n",
    "    \"\"\"\n",
    "    # TODO: Implement\n",
    "    inputLayer = Input(shape=input_shape[1:])\n",
    "#     embeddingLayer = Embedding(input_dim=english_vocab_size, output_dim=64)(inputLayer)\n",
    "    embeddingLayer = Embedding(english_vocab_size*2, english_vocab_size)(inputLayer)\n",
    "    bdLayerIn = Bidirectional(GRU(256))(embeddingLayer)\n",
    "    repeatlayer = RepeatVector(output_sequence_length)(bdLayerIn)\n",
    "    denselayer = Dense(256,activation='relu')(repeatlayer)\n",
    "    bdLayerOut = Bidirectional(GRU(256,return_sequences=True))(denselayer)    \n",
    "    outputLayer = TimeDistributed(Dense(french_vocab_size,activation='relu'))(bdLayerOut)\n",
    "    bdmodel = Model(inputs=inputLayer, outputs=outputLayer)\n",
    "    bdmodel.compile(loss=sparse_categorical_crossentropy, optimizer=Adam(0.005), metrics=['accuracy'])\n",
    "    return bdmodel    \n",
    "tests.test_model_final(model_final)\n",
    "\n",
    "\n",
    "print('Final Model Loaded')"
   ]
  },
  {
   "cell_type": "markdown",
   "metadata": {},
   "source": [
    "## Prediction (IMPLEMENTATION)"
   ]
  },
  {
   "cell_type": "code",
   "execution_count": 24,
   "metadata": {},
   "outputs": [
    {
     "name": "stdout",
     "output_type": "stream",
     "text": [
      "Train on 110288 samples, validate on 27573 samples\n",
      "Epoch 1/10\n",
      "110288/110288 [==============================] - 42s 384us/step - loss: 7.3445 - acc: 0.0249 - val_loss: 6.9764 - val_acc: 0.0168\n",
      "Epoch 2/10\n",
      "110288/110288 [==============================] - 41s 373us/step - loss: 6.4024 - acc: 0.2564 - val_loss: 5.8435 - val_acc: 0.4093\n",
      "Epoch 3/10\n",
      "110288/110288 [==============================] - 41s 373us/step - loss: 5.8435 - acc: 0.4082 - val_loss: 5.8435 - val_acc: 0.4093\n",
      "Epoch 4/10\n",
      "110288/110288 [==============================] - 41s 371us/step - loss: 5.8435 - acc: 0.4082 - val_loss: 5.8435 - val_acc: 0.4093\n",
      "Epoch 5/10\n",
      "110288/110288 [==============================] - 41s 372us/step - loss: 5.8435 - acc: 0.4082 - val_loss: 5.8435 - val_acc: 0.4093\n",
      "Epoch 6/10\n",
      "110288/110288 [==============================] - 41s 374us/step - loss: 5.8435 - acc: 0.4082 - val_loss: 5.8435 - val_acc: 0.4093\n",
      "Epoch 7/10\n",
      "110288/110288 [==============================] - 41s 372us/step - loss: 5.8435 - acc: 0.4082 - val_loss: 5.8435 - val_acc: 0.4093\n",
      "Epoch 8/10\n",
      "110288/110288 [==============================] - 41s 372us/step - loss: 5.8435 - acc: 0.4082 - val_loss: 5.8435 - val_acc: 0.4093\n",
      "Epoch 9/10\n",
      "110288/110288 [==============================] - 41s 372us/step - loss: 5.8435 - acc: 0.4082 - val_loss: 5.8435 - val_acc: 0.4093\n",
      "Epoch 10/10\n",
      "110288/110288 [==============================] - 41s 374us/step - loss: 5.8435 - acc: 0.4082 - val_loss: 5.8435 - val_acc: 0.4093\n",
      "Sample 1:\n",
      "<PAD> <PAD> <PAD> <PAD> <PAD> <PAD> <PAD> <PAD> <PAD> <PAD> <PAD> <PAD> <PAD> <PAD> <PAD> <PAD> <PAD> <PAD> <PAD> <PAD> <PAD>\n",
      "Il a vu un vieux camion jaune\n",
      "Sample 2:\n",
      "<PAD> <PAD> <PAD> <PAD> <PAD> <PAD> <PAD> <PAD> <PAD> <PAD> <PAD> <PAD> <PAD> <PAD> <PAD> <PAD> <PAD> <PAD> <PAD> <PAD> <PAD>\n",
      "new jersey est parfois calme pendant l' automne et il est neigeux en avril <PAD> <PAD> <PAD> <PAD> <PAD> <PAD> <PAD>\n"
     ]
    }
   ],
   "source": [
    "def final_predictions(x, y, x_tk, y_tk):\n",
    "    \"\"\"\n",
    "    Gets predictions using the final model\n",
    "    :param x: Preprocessed English data\n",
    "    :param y: Preprocessed French data\n",
    "    :param x_tk: English tokenizer\n",
    "    :param y_tk: French tokenizer\n",
    "    \"\"\"\n",
    "    # TODO: Train neural network using model_final\n",
    "    x = pad(x,y.shape[1])\n",
    "\n",
    "    # Define final_model\n",
    "    final_model = model_final(x.shape, \n",
    "                              y.shape[1],\n",
    "                              len(x_tk.word_index) + 1,\n",
    "                              len(y_tk.word_index) + 1)\n",
    "    # Fit the final model\n",
    "    final_model.fit(x, y, batch_size=1024, epochs=10, validation_split=0.2)\n",
    "    \n",
    "    model = final_model\n",
    "\n",
    "    \n",
    "    ## DON'T EDIT ANYTHING BELOW THIS LINE\n",
    "    y_id_to_word = {value: key for key, value in y_tk.word_index.items()}\n",
    "    y_id_to_word[0] = '<PAD>'\n",
    "\n",
    "    sentence = 'he saw a old yellow truck'\n",
    "    sentence = [x_tk.word_index[word] for word in sentence.split()]\n",
    "    sentence = pad_sequences([sentence], maxlen=x.shape[-1], padding='post')\n",
    "    sentences = np.array([sentence[0], x[0]])\n",
    "    predictions = model.predict(sentences, len(sentences))\n",
    "\n",
    "    print('Sample 1:')\n",
    "    print(' '.join([y_id_to_word[np.argmax(x)] for x in predictions[0]]))\n",
    "    print('Il a vu un vieux camion jaune')\n",
    "    print('Sample 2:')\n",
    "    print(' '.join([y_id_to_word[np.argmax(x)] for x in predictions[1]]))\n",
    "    print(' '.join([y_id_to_word[np.max(x)] for x in y[0]]))\n",
    "\n",
    "\n",
    "final_predictions(preproc_english_sentences, preproc_french_sentences, english_tokenizer, french_tokenizer)"
   ]
  },
  {
   "cell_type": "markdown",
   "metadata": {},
   "source": [
    "## Submission\n",
    "When you're ready to submit, complete the following steps:\n",
    "1. Review the [rubric](https://review.udacity.com/#!/rubrics/1004/view) to ensure your submission meets all requirements to pass\n",
    "2. Generate an HTML version of this notebook\n",
    "\n",
    "  - Run the next cell to attempt automatic generation (this is the recommended method in Workspaces)\n",
    "  - Navigate to **FILE -> Download as -> HTML (.html)**\n",
    "  - Manually generate a copy using `nbconvert` from your shell terminal\n",
    "```\n",
    "$ pip install nbconvert\n",
    "$ python -m nbconvert machine_translation.ipynb\n",
    "```\n",
    "  \n",
    "3. Submit the project\n",
    "\n",
    "  - If you are in a Workspace, simply click the \"Submit Project\" button (bottom towards the right)\n",
    "  \n",
    "  - Otherwise, add the following files into a zip archive and submit them \n",
    "  - `helper.py`\n",
    "  - `machine_translation.ipynb`\n",
    "  - `machine_translation.html`\n",
    "    - You can export the notebook by navigating to **File -> Download as -> HTML (.html)**."
   ]
  },
  {
   "cell_type": "markdown",
   "metadata": {},
   "source": [
    "### Generate the html\n",
    "\n",
    "**Save your notebook before running the next cell to generate the HTML output.** Then submit your project."
   ]
  },
  {
   "cell_type": "code",
   "execution_count": 25,
   "metadata": {},
   "outputs": [
    {
     "data": {
      "text/plain": [
       "['[NbConvertApp] Converting notebook machine_translation-Copy1.ipynb to html',\n",
       " '[NbConvertApp] Writing 331287 bytes to machine_translation-Copy1.html',\n",
       " '[NbConvertApp] Converting notebook machine_translation.ipynb to html',\n",
       " '[NbConvertApp] Writing 389412 bytes to machine_translation.html',\n",
       " '[NbConvertApp] Converting notebook machine_translation-zh.ipynb to html',\n",
       " '[NbConvertApp] Writing 328614 bytes to machine_translation-zh.html']"
      ]
     },
     "execution_count": 25,
     "metadata": {},
     "output_type": "execute_result"
    }
   ],
   "source": [
    "# Save before you run this cell!\n",
    "!!jupyter nbconvert *.ipynb"
   ]
  },
  {
   "cell_type": "markdown",
   "metadata": {},
   "source": [
    "## Optional Enhancements\n",
    "\n",
    "This project focuses on learning various network architectures for machine translation, but we don't evaluate the models according to best practices by splitting the data into separate test & training sets -- so the model accuracy is overstated. Use the [`sklearn.model_selection.train_test_split()`](http://scikit-learn.org/stable/modules/generated/sklearn.model_selection.train_test_split.html) function to create separate training & test datasets, then retrain each of the models using only the training set and evaluate the prediction accuracy using the hold out test set. Does the \"best\" model change?"
   ]
  },
  {
   "cell_type": "code",
   "execution_count": null,
   "metadata": {},
   "outputs": [],
   "source": []
  }
 ],
 "metadata": {
  "kernelspec": {
   "display_name": "Python 3",
   "language": "python",
   "name": "python3"
  },
  "language_info": {
   "codemirror_mode": {
    "name": "ipython",
    "version": 3
   },
   "file_extension": ".py",
   "mimetype": "text/x-python",
   "name": "python",
   "nbconvert_exporter": "python",
   "pygments_lexer": "ipython3",
   "version": "3.6.3"
  }
 },
 "nbformat": 4,
 "nbformat_minor": 1
}
